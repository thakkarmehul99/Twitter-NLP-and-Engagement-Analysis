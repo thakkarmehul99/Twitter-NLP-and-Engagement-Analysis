{
 "cells": [
  {
   "cell_type": "markdown",
   "metadata": {
    "collapsed": false
   },
   "source": [
    "## Data"
   ]
  },
  {
   "cell_type": "code",
   "execution_count": 1,
   "metadata": {
    "collapsed": false
   },
   "outputs": [
   ],
   "source": [
    "from textblob import TextBlob\n",
    "from wordcloud import WordCloud\n",
    "import numpy as np\n",
    "import pandas as pd\n",
    "import os\n",
    "import re\n",
    "import matplotlib.pyplot as plt\n",
    "#os.chdir(\"/Users/ippy/Desktop\")\n",
    "data = pd.read_excel('@Ninja_user_tweets.xlsx')"
   ]
  },
  {
   "cell_type": "code",
   "execution_count": 2,
   "metadata": {
    "collapsed": false,
    "scrolled": true
   },
   "outputs": [
    {
     "data": {
      "text/html": [
       "<div>\n",
       "<style scoped>\n",
       "    .dataframe tbody tr th:only-of-type {\n",
       "        vertical-align: middle;\n",
       "    }\n",
       "\n",
       "    .dataframe tbody tr th {\n",
       "        vertical-align: top;\n",
       "    }\n",
       "\n",
       "    .dataframe thead th {\n",
       "        text-align: right;\n",
       "    }\n",
       "</style>\n",
       "<table border=\"1\" class=\"dataframe\">\n",
       "  <thead>\n",
       "    <tr style=\"text-align: right;\">\n",
       "      <th></th>\n",
       "      <th>Tweet Id</th>\n",
       "      <th>Text</th>\n",
       "      <th>Name</th>\n",
       "      <th>Screen Name</th>\n",
       "      <th>UTC</th>\n",
       "      <th>Created At</th>\n",
       "      <th>Favorites</th>\n",
       "      <th>Retweets</th>\n",
       "      <th>Language</th>\n",
       "      <th>Client</th>\n",
       "      <th>Tweet Type</th>\n",
       "      <th>Media Type</th>\n",
       "      <th>Media URLs</th>\n",
       "      <th>URLs</th>\n",
       "      <th>Hashtags</th>\n",
       "      <th>Mentions</th>\n",
       "    </tr>\n",
       "  </thead>\n",
       "  <tbody>\n",
       "    <tr>\n",
       "      <td>0</td>\n",
       "      <td>1253875441431203845</td>\n",
       "      <td>Duo quads w/ @cloakzy and hit this weird clip ...</td>\n",
       "      <td>Ninja</td>\n",
       "      <td>Ninja</td>\n",
       "      <td>2020-04-25T02:36:15.000Z</td>\n",
       "      <td>Sat Apr 25 02:36:15 +0000 2020</td>\n",
       "      <td>3828</td>\n",
       "      <td>177</td>\n",
       "      <td>en</td>\n",
       "      <td>&lt;a href=\"https://mobile.twitter.com\" rel=\"nofo...</td>\n",
       "      <td>Tweet</td>\n",
       "      <td>Video</td>\n",
       "      <td>https://video.twimg.com/ext_tw_video/125387531...</td>\n",
       "      <td>0</td>\n",
       "      <td>0</td>\n",
       "      <td>1</td>\n",
       "    </tr>\n",
       "    <tr>\n",
       "      <td>1</td>\n",
       "      <td>1253870867072921607</td>\n",
       "      <td>RT @cloakzy : Its been awhile. Gunfight and cl...</td>\n",
       "      <td>Ninja</td>\n",
       "      <td>Ninja</td>\n",
       "      <td>2020-04-25T02:18:05.000Z</td>\n",
       "      <td>Sat Apr 25 02:18:05 +0000 2020</td>\n",
       "      <td>0</td>\n",
       "      <td>0</td>\n",
       "      <td>en</td>\n",
       "      <td>&lt;a href=\"http://twitter.com/download/iphone\" r...</td>\n",
       "      <td>Retweet</td>\n",
       "      <td>NaN</td>\n",
       "      <td>NaN</td>\n",
       "      <td>1</td>\n",
       "      <td>0</td>\n",
       "      <td>1</td>\n",
       "    </tr>\n",
       "    <tr>\n",
       "      <td>2</td>\n",
       "      <td>1253860998219431944</td>\n",
       "      <td>RT @MrBeastYT : Here is the final bracket for ...</td>\n",
       "      <td>Ninja</td>\n",
       "      <td>Ninja</td>\n",
       "      <td>2020-04-25T01:38:52.000Z</td>\n",
       "      <td>Sat Apr 25 01:38:52 +0000 2020</td>\n",
       "      <td>0</td>\n",
       "      <td>0</td>\n",
       "      <td>en</td>\n",
       "      <td>&lt;a href=\"https://mobile.twitter.com\" rel=\"nofo...</td>\n",
       "      <td>Retweet</td>\n",
       "      <td>Photo</td>\n",
       "      <td>https://pbs.twimg.com/media/EWaWWKnXQAQggJ6.jp...</td>\n",
       "      <td>0</td>\n",
       "      <td>0</td>\n",
       "      <td>0</td>\n",
       "    </tr>\n",
       "    <tr>\n",
       "      <td>3</td>\n",
       "      <td>1253852584802160641</td>\n",
       "      <td>RT @SypherPK : How to handle stream snipers.. ...</td>\n",
       "      <td>Ninja</td>\n",
       "      <td>Ninja</td>\n",
       "      <td>2020-04-25T01:05:26.000Z</td>\n",
       "      <td>Sat Apr 25 01:05:26 +0000 2020</td>\n",
       "      <td>0</td>\n",
       "      <td>0</td>\n",
       "      <td>en</td>\n",
       "      <td>&lt;a href=\"https://mobile.twitter.com\" rel=\"nofo...</td>\n",
       "      <td>Retweet</td>\n",
       "      <td>Video</td>\n",
       "      <td>https://video.twimg.com/ext_tw_video/125384626...</td>\n",
       "      <td>0</td>\n",
       "      <td>0</td>\n",
       "      <td>1</td>\n",
       "    </tr>\n",
       "    <tr>\n",
       "      <td>4</td>\n",
       "      <td>1253839699732504577</td>\n",
       "      <td>Familiar, and Fire! Also, great job raising 17...</td>\n",
       "      <td>Ninja</td>\n",
       "      <td>Ninja</td>\n",
       "      <td>2020-04-25T00:14:14.000Z</td>\n",
       "      <td>Sat Apr 25 00:14:14 +0000 2020</td>\n",
       "      <td>3650</td>\n",
       "      <td>82</td>\n",
       "      <td>en</td>\n",
       "      <td>&lt;a href=\"https://mobile.twitter.com\" rel=\"nofo...</td>\n",
       "      <td>Tweet</td>\n",
       "      <td>NaN</td>\n",
       "      <td>NaN</td>\n",
       "      <td>1</td>\n",
       "      <td>0</td>\n",
       "      <td>0</td>\n",
       "    </tr>\n",
       "  </tbody>\n",
       "</table>\n",
       "</div>"
      ],
      "text/plain": [
       "              Tweet Id                                               Text  \\\n",
       "0  1253875441431203845  Duo quads w/ @cloakzy and hit this weird clip ...   \n",
       "1  1253870867072921607  RT @cloakzy : Its been awhile. Gunfight and cl...   \n",
       "2  1253860998219431944  RT @MrBeastYT : Here is the final bracket for ...   \n",
       "3  1253852584802160641  RT @SypherPK : How to handle stream snipers.. ...   \n",
       "4  1253839699732504577  Familiar, and Fire! Also, great job raising 17...   \n",
       "\n",
       "    Name Screen Name                       UTC  \\\n",
       "0  Ninja       Ninja  2020-04-25T02:36:15.000Z   \n",
       "1  Ninja       Ninja  2020-04-25T02:18:05.000Z   \n",
       "2  Ninja       Ninja  2020-04-25T01:38:52.000Z   \n",
       "3  Ninja       Ninja  2020-04-25T01:05:26.000Z   \n",
       "4  Ninja       Ninja  2020-04-25T00:14:14.000Z   \n",
       "\n",
       "                       Created At  Favorites  Retweets Language  \\\n",
       "0  Sat Apr 25 02:36:15 +0000 2020       3828       177       en   \n",
       "1  Sat Apr 25 02:18:05 +0000 2020          0         0       en   \n",
       "2  Sat Apr 25 01:38:52 +0000 2020          0         0       en   \n",
       "3  Sat Apr 25 01:05:26 +0000 2020          0         0       en   \n",
       "4  Sat Apr 25 00:14:14 +0000 2020       3650        82       en   \n",
       "\n",
       "                                              Client Tweet Type Media Type  \\\n",
       "0  <a href=\"https://mobile.twitter.com\" rel=\"nofo...      Tweet      Video   \n",
       "1  <a href=\"http://twitter.com/download/iphone\" r...    Retweet        NaN   \n",
       "2  <a href=\"https://mobile.twitter.com\" rel=\"nofo...    Retweet      Photo   \n",
       "3  <a href=\"https://mobile.twitter.com\" rel=\"nofo...    Retweet      Video   \n",
       "4  <a href=\"https://mobile.twitter.com\" rel=\"nofo...      Tweet        NaN   \n",
       "\n",
       "                                          Media URLs  URLs  Hashtags  Mentions  \n",
       "0  https://video.twimg.com/ext_tw_video/125387531...     0         0         1  \n",
       "1                                                NaN     1         0         1  \n",
       "2  https://pbs.twimg.com/media/EWaWWKnXQAQggJ6.jp...     0         0         0  \n",
       "3  https://video.twimg.com/ext_tw_video/125384626...     0         0         1  \n",
       "4                                                NaN     1         0         0  "
      ]
     },
     "execution_count": 2,
     "metadata": {
     },
     "output_type": "execute_result"
    }
   ],
   "source": [
    "data.head()"
   ]
  },
  {
   "cell_type": "code",
   "execution_count": 3,
   "metadata": {
    "collapsed": false
   },
   "outputs": [
    {
     "data": {
      "text/html": [
       "<div>\n",
       "<style scoped>\n",
       "    .dataframe tbody tr th:only-of-type {\n",
       "        vertical-align: middle;\n",
       "    }\n",
       "\n",
       "    .dataframe tbody tr th {\n",
       "        vertical-align: top;\n",
       "    }\n",
       "\n",
       "    .dataframe thead th {\n",
       "        text-align: right;\n",
       "    }\n",
       "</style>\n",
       "<table border=\"1\" class=\"dataframe\">\n",
       "  <thead>\n",
       "    <tr style=\"text-align: right;\">\n",
       "      <th></th>\n",
       "      <th>Tweet Id</th>\n",
       "      <th>Text</th>\n",
       "      <th>Name</th>\n",
       "      <th>Screen Name</th>\n",
       "      <th>UTC</th>\n",
       "      <th>Created At</th>\n",
       "      <th>Favorites</th>\n",
       "      <th>Retweets</th>\n",
       "      <th>Language</th>\n",
       "      <th>Client</th>\n",
       "      <th>Tweet Type</th>\n",
       "      <th>Media Type</th>\n",
       "      <th>Media URLs</th>\n",
       "      <th>URLs</th>\n",
       "      <th>Hashtags</th>\n",
       "      <th>Mentions</th>\n",
       "    </tr>\n",
       "  </thead>\n",
       "  <tbody>\n",
       "    <tr>\n",
       "      <td>3186</td>\n",
       "      <td>1125859104235429888</td>\n",
       "      <td>Happy birthday to the guy who makes videos you...</td>\n",
       "      <td>Ninja</td>\n",
       "      <td>Ninja</td>\n",
       "      <td>2019-05-07T20:25:02.000Z</td>\n",
       "      <td>Tue May 07 20:25:02 +0000 2019</td>\n",
       "      <td>28159</td>\n",
       "      <td>692</td>\n",
       "      <td>en</td>\n",
       "      <td>&lt;a href=\"https://mobile.twitter.com\" rel=\"nofo...</td>\n",
       "      <td>Tweet</td>\n",
       "      <td>NaN</td>\n",
       "      <td>NaN</td>\n",
       "      <td>0</td>\n",
       "      <td>0</td>\n",
       "      <td>1</td>\n",
       "    </tr>\n",
       "    <tr>\n",
       "      <td>3187</td>\n",
       "      <td>1125839830062116869</td>\n",
       "      <td>RT @DrLupo : @Ninja @IamTrevorMay while everyo...</td>\n",
       "      <td>Ninja</td>\n",
       "      <td>Ninja</td>\n",
       "      <td>2019-05-07T19:08:27.000Z</td>\n",
       "      <td>Tue May 07 19:08:27 +0000 2019</td>\n",
       "      <td>0</td>\n",
       "      <td>0</td>\n",
       "      <td>en</td>\n",
       "      <td>&lt;a href=\"https://mobile.twitter.com\" rel=\"nofo...</td>\n",
       "      <td>Retweet</td>\n",
       "      <td>NaN</td>\n",
       "      <td>NaN</td>\n",
       "      <td>1</td>\n",
       "      <td>0</td>\n",
       "      <td>2</td>\n",
       "    </tr>\n",
       "    <tr>\n",
       "      <td>3188</td>\n",
       "      <td>1125835524764254210</td>\n",
       "      <td>wow @IamTrevorMay</td>\n",
       "      <td>Ninja</td>\n",
       "      <td>Ninja</td>\n",
       "      <td>2019-05-07T18:51:20.000Z</td>\n",
       "      <td>Tue May 07 18:51:20 +0000 2019</td>\n",
       "      <td>3839</td>\n",
       "      <td>75</td>\n",
       "      <td>und</td>\n",
       "      <td>&lt;a href=\"https://mobile.twitter.com\" rel=\"nofo...</td>\n",
       "      <td>Tweet</td>\n",
       "      <td>NaN</td>\n",
       "      <td>NaN</td>\n",
       "      <td>0</td>\n",
       "      <td>0</td>\n",
       "      <td>1</td>\n",
       "    </tr>\n",
       "    <tr>\n",
       "      <td>3189</td>\n",
       "      <td>1125814254156775424</td>\n",
       "      <td>RT @FortniteGame : The Future is Bright.\\n5.9....</td>\n",
       "      <td>Ninja</td>\n",
       "      <td>Ninja</td>\n",
       "      <td>2019-05-07T17:26:49.000Z</td>\n",
       "      <td>Tue May 07 17:26:49 +0000 2019</td>\n",
       "      <td>0</td>\n",
       "      <td>0</td>\n",
       "      <td>en</td>\n",
       "      <td>&lt;a href=\"https://mobile.twitter.com\" rel=\"nofo...</td>\n",
       "      <td>Retweet</td>\n",
       "      <td>Photo</td>\n",
       "      <td>https://pbs.twimg.com/media/D5-C_e6XkAACt4_.jpg</td>\n",
       "      <td>0</td>\n",
       "      <td>1</td>\n",
       "      <td>0</td>\n",
       "    </tr>\n",
       "    <tr>\n",
       "      <td>3190</td>\n",
       "      <td>1125809575444324353</td>\n",
       "      <td>New video is up!  https://t.co/2YFQPf1T1F via ...</td>\n",
       "      <td>Ninja</td>\n",
       "      <td>Ninja</td>\n",
       "      <td>2019-05-07T17:08:13.000Z</td>\n",
       "      <td>Tue May 07 17:08:13 +0000 2019</td>\n",
       "      <td>1426</td>\n",
       "      <td>68</td>\n",
       "      <td>en</td>\n",
       "      <td>&lt;a href=\"http://twitter.com\" rel=\"nofollow\"&gt;Tw...</td>\n",
       "      <td>Tweet</td>\n",
       "      <td>NaN</td>\n",
       "      <td>NaN</td>\n",
       "      <td>1</td>\n",
       "      <td>0</td>\n",
       "      <td>1</td>\n",
       "    </tr>\n",
       "  </tbody>\n",
       "</table>\n",
       "</div>"
      ],
      "text/plain": [
       "                 Tweet Id                                               Text  \\\n",
       "3186  1125859104235429888  Happy birthday to the guy who makes videos you...   \n",
       "3187  1125839830062116869  RT @DrLupo : @Ninja @IamTrevorMay while everyo...   \n",
       "3188  1125835524764254210                                  wow @IamTrevorMay   \n",
       "3189  1125814254156775424  RT @FortniteGame : The Future is Bright.\\n5.9....   \n",
       "3190  1125809575444324353  New video is up!  https://t.co/2YFQPf1T1F via ...   \n",
       "\n",
       "       Name Screen Name                       UTC  \\\n",
       "3186  Ninja       Ninja  2019-05-07T20:25:02.000Z   \n",
       "3187  Ninja       Ninja  2019-05-07T19:08:27.000Z   \n",
       "3188  Ninja       Ninja  2019-05-07T18:51:20.000Z   \n",
       "3189  Ninja       Ninja  2019-05-07T17:26:49.000Z   \n",
       "3190  Ninja       Ninja  2019-05-07T17:08:13.000Z   \n",
       "\n",
       "                          Created At  Favorites  Retweets Language  \\\n",
       "3186  Tue May 07 20:25:02 +0000 2019      28159       692       en   \n",
       "3187  Tue May 07 19:08:27 +0000 2019          0         0       en   \n",
       "3188  Tue May 07 18:51:20 +0000 2019       3839        75      und   \n",
       "3189  Tue May 07 17:26:49 +0000 2019          0         0       en   \n",
       "3190  Tue May 07 17:08:13 +0000 2019       1426        68       en   \n",
       "\n",
       "                                                 Client Tweet Type Media Type  \\\n",
       "3186  <a href=\"https://mobile.twitter.com\" rel=\"nofo...      Tweet        NaN   \n",
       "3187  <a href=\"https://mobile.twitter.com\" rel=\"nofo...    Retweet        NaN   \n",
       "3188  <a href=\"https://mobile.twitter.com\" rel=\"nofo...      Tweet        NaN   \n",
       "3189  <a href=\"https://mobile.twitter.com\" rel=\"nofo...    Retweet      Photo   \n",
       "3190  <a href=\"http://twitter.com\" rel=\"nofollow\">Tw...      Tweet        NaN   \n",
       "\n",
       "                                            Media URLs  URLs  Hashtags  \\\n",
       "3186                                               NaN     0         0   \n",
       "3187                                               NaN     1         0   \n",
       "3188                                               NaN     0         0   \n",
       "3189  https://pbs.twimg.com/media/D5-C_e6XkAACt4_.jpg      0         1   \n",
       "3190                                               NaN     1         0   \n",
       "\n",
       "      Mentions  \n",
       "3186         1  \n",
       "3187         2  \n",
       "3188         1  \n",
       "3189         0  \n",
       "3190         1  "
      ]
     },
     "execution_count": 3,
     "metadata": {
     },
     "output_type": "execute_result"
    }
   ],
   "source": [
    "data.tail()"
   ]
  },
  {
   "cell_type": "markdown",
   "metadata": {
    "collapsed": false
   },
   "source": [
    "DATASET FEATURES\n",
    "\n",
    "Tweet ID: Twitter's unique identification number for the tweet\n",
    "\n",
    "Text: The text contents of the tweet/the tweet itself\n",
    "\n",
    "Name: Real name of the user\n",
    "\n",
    "Screen name: Twitter handle (@screenname)\n",
    "\n",
    "UTC: Time tweet was created based off coordinated universal time\n",
    "\n",
    "Created At: Date and time the tweet was posted\n",
    "\n",
    "Favorite: Number of favorites on the tweet\n",
    "\n",
    "Retweets: Number of retweets of the tweet\n",
    "\n",
    "Language: Language of the tweet\n",
    "\n",
    "Client: Platform that the tweet was posted from (iPhone, Android, etc.)\n",
    "\n",
    "Tweet Type: Tweet, reply, or retweet (we will only use tweet)\n",
    "\n",
    "Media Type: If a photo/video/website link was attached to the tweet, it will be mentioned here\n",
    "\n",
    "Media URLs: URL to the posted media\n",
    "\n",
    "URLs: Number of URLs posted with the tweet\n",
    "\n",
    "Hashtags: Number of hashtags posted with the tweet\n",
    "\n",
    "Mentions: Number of other users mentioned in the tweet"
   ]
  },
  {
   "cell_type": "markdown",
   "metadata": {
    "collapsed": false
   },
   "source": [
    "## Exploratory Data Analysis"
   ]
  },
  {
   "cell_type": "code",
   "execution_count": 4,
   "metadata": {
    "collapsed": false
   },
   "outputs": [
    {
     "data": {
      "text/html": [
       "<div>\n",
       "<style scoped>\n",
       "    .dataframe tbody tr th:only-of-type {\n",
       "        vertical-align: middle;\n",
       "    }\n",
       "\n",
       "    .dataframe tbody tr th {\n",
       "        vertical-align: top;\n",
       "    }\n",
       "\n",
       "    .dataframe thead th {\n",
       "        text-align: right;\n",
       "    }\n",
       "</style>\n",
       "<table border=\"1\" class=\"dataframe\">\n",
       "  <thead>\n",
       "    <tr style=\"text-align: right;\">\n",
       "      <th></th>\n",
       "      <th>Tweet Id</th>\n",
       "      <th>Favorites</th>\n",
       "      <th>Retweets</th>\n",
       "      <th>URLs</th>\n",
       "      <th>Hashtags</th>\n",
       "      <th>Mentions</th>\n",
       "    </tr>\n",
       "  </thead>\n",
       "  <tbody>\n",
       "    <tr>\n",
       "      <td>count</td>\n",
       "      <td>3.191000e+03</td>\n",
       "      <td>3191.000000</td>\n",
       "      <td>3191.000000</td>\n",
       "      <td>3191.000000</td>\n",
       "      <td>3191.000000</td>\n",
       "      <td>3191.000000</td>\n",
       "    </tr>\n",
       "    <tr>\n",
       "      <td>mean</td>\n",
       "      <td>1.188289e+18</td>\n",
       "      <td>7614.843623</td>\n",
       "      <td>351.550924</td>\n",
       "      <td>0.250705</td>\n",
       "      <td>0.109057</td>\n",
       "      <td>0.897211</td>\n",
       "    </tr>\n",
       "    <tr>\n",
       "      <td>std</td>\n",
       "      <td>3.566707e+16</td>\n",
       "      <td>16849.915784</td>\n",
       "      <td>1405.489972</td>\n",
       "      <td>0.454664</td>\n",
       "      <td>0.428619</td>\n",
       "      <td>1.146931</td>\n",
       "    </tr>\n",
       "    <tr>\n",
       "      <td>min</td>\n",
       "      <td>1.125810e+18</td>\n",
       "      <td>0.000000</td>\n",
       "      <td>0.000000</td>\n",
       "      <td>0.000000</td>\n",
       "      <td>0.000000</td>\n",
       "      <td>0.000000</td>\n",
       "    </tr>\n",
       "    <tr>\n",
       "      <td>25%</td>\n",
       "      <td>1.159290e+18</td>\n",
       "      <td>0.000000</td>\n",
       "      <td>0.000000</td>\n",
       "      <td>0.000000</td>\n",
       "      <td>0.000000</td>\n",
       "      <td>0.000000</td>\n",
       "    </tr>\n",
       "    <tr>\n",
       "      <td>50%</td>\n",
       "      <td>1.187460e+18</td>\n",
       "      <td>2051.000000</td>\n",
       "      <td>38.000000</td>\n",
       "      <td>0.000000</td>\n",
       "      <td>0.000000</td>\n",
       "      <td>1.000000</td>\n",
       "    </tr>\n",
       "    <tr>\n",
       "      <td>75%</td>\n",
       "      <td>1.217619e+18</td>\n",
       "      <td>8252.000000</td>\n",
       "      <td>211.000000</td>\n",
       "      <td>0.000000</td>\n",
       "      <td>0.000000</td>\n",
       "      <td>1.000000</td>\n",
       "    </tr>\n",
       "    <tr>\n",
       "      <td>max</td>\n",
       "      <td>1.253875e+18</td>\n",
       "      <td>380057.000000</td>\n",
       "      <td>31137.000000</td>\n",
       "      <td>5.000000</td>\n",
       "      <td>8.000000</td>\n",
       "      <td>17.000000</td>\n",
       "    </tr>\n",
       "  </tbody>\n",
       "</table>\n",
       "</div>"
      ],
      "text/plain": [
       "           Tweet Id      Favorites      Retweets         URLs     Hashtags  \\\n",
       "count  3.191000e+03    3191.000000   3191.000000  3191.000000  3191.000000   \n",
       "mean   1.188289e+18    7614.843623    351.550924     0.250705     0.109057   \n",
       "std    3.566707e+16   16849.915784   1405.489972     0.454664     0.428619   \n",
       "min    1.125810e+18       0.000000      0.000000     0.000000     0.000000   \n",
       "25%    1.159290e+18       0.000000      0.000000     0.000000     0.000000   \n",
       "50%    1.187460e+18    2051.000000     38.000000     0.000000     0.000000   \n",
       "75%    1.217619e+18    8252.000000    211.000000     0.000000     0.000000   \n",
       "max    1.253875e+18  380057.000000  31137.000000     5.000000     8.000000   \n",
       "\n",
       "          Mentions  \n",
       "count  3191.000000  \n",
       "mean      0.897211  \n",
       "std       1.146931  \n",
       "min       0.000000  \n",
       "25%       0.000000  \n",
       "50%       1.000000  \n",
       "75%       1.000000  \n",
       "max      17.000000  "
      ]
     },
     "execution_count": 4,
     "metadata": {
     },
     "output_type": "execute_result"
    }
   ],
   "source": [
    "data.describe()"
   ]
  },
  {
   "cell_type": "markdown",
   "metadata": {
    "collapsed": false
   },
   "source": [
    "We have a total of 3191 tweets to work with, starting from mid-2019. The tweets may be replies or retweets which means less engagement, and some may be sponsored posts/advertisements, which could also mean less engagement."
   ]
  },
  {
   "cell_type": "markdown",
   "metadata": {
    "collapsed": false
   },
   "source": [
    "The max number of favorites and retweets is much, much more than the 75th percentile, suggesting that this data is heavily skewed to the right. It may benefit us to perform some sort of scaling, or to select smaller chunks in the dataset instead of the entire thing when training."
   ]
  },
  {
   "cell_type": "markdown",
   "metadata": {
    "collapsed": false
   },
   "source": [
    "## Pre-\"extraneous tweet removal\" plots"
   ]
  },
  {
   "cell_type": "code",
   "execution_count": 5,
   "metadata": {
    "collapsed": false,
    "scrolled": true
   },
   "outputs": [
    {
     "data": {
      "image/png": "[encoded data removed]",
      "text/plain": [
       "<Figure size 1152x576 with 6 Axes>"
      ]
     },
     "execution_count": 5,
     "metadata": {
      "needs_background": "light"
     },
     "output_type": "execute_result"
    }
   ],
   "source": [
    "fig, axs = plt.subplots(3, 2, figsize=(16,8))\n",
    "\n",
    "axs[0, 0].plot(data['Favorites'][-100:], color='gold')\n",
    "axs[0, 0].set_title(\"Favorite count of Ninja's last 100 tweets\")\n",
    "axs[0, 0].set_xlabel('Post number')\n",
    "axs[0, 0].set_ylabel('Favorites')\n",
    "\n",
    "axs[0, 1].plot(data['Favorites'], color='gold')\n",
    "axs[0, 1].set_title(\"All favorite counts of Ninja's tweets\")\n",
    "axs[0, 1].set_xlabel('Post number')\n",
    "axs[0, 1].set_ylabel('Favorites')\n",
    "\n",
    "axs[1, 0].plot(data['Retweets'][-100:], color='green')\n",
    "axs[1, 0].set_title(\"Retweet count of Ninja's last 100 tweets\")\n",
    "axs[1, 0].set_xlabel('Post number')\n",
    "axs[1, 0].set_ylabel('Retweets')\n",
    "\n",
    "axs[1, 1].plot(data['Retweets'], color='green')\n",
    "axs[1, 1].set_title(\"All retweet counts of Ninja's tweets\")\n",
    "axs[1, 1].set_xlabel('Post number')\n",
    "axs[1, 1].set_ylabel('Retweets')\n",
    "\n",
    "bins = 100\n",
    "axs[2, 0].hist(data['Favorites'], bins, facecolor='gold', edgecolor='black')\n",
    "axs[2, 0].set_title(\"Histogram of favorites on Ninja's tweets\")\n",
    "axs[2, 0].set_xlabel(\"Favorites\")\n",
    "axs[2, 0].set_ylabel(\"Count\")\n",
    "\n",
    "axs[2, 1].hist(data['Retweets'], bins, facecolor='green', edgecolor='black')\n",
    "axs[2, 1].set_title(\"Histogram of retweets on Ninja's tweets\")\n",
    "axs[2, 1].set_xlabel(\"Retweets\")\n",
    "axs[2, 1].set_ylabel(\"Count\")\n",
    "\n",
    "fig.subplots_adjust(left=0.0, right=1.0, bottom=0.0, top=1.0,\n",
    "                    hspace=0.5, wspace=0.2)"
   ]
  },
  {
   "cell_type": "markdown",
   "metadata": {
    "collapsed": false
   },
   "source": [
    "As we see here, the overall trend appears to be very random, with a few, very large spikes in favorites and retweets."
   ]
  },
  {
   "cell_type": "markdown",
   "metadata": {
    "collapsed": false
   },
   "source": [
    "These histograms prove the extreme skewed-ness of the data, and require that we must preprocess it in some way to obtain meaningful results from our model.\n",
    "\n",
    "Firstly, we can remove tweets that are replies and retweets. Replies aren't made visible to all followers, so natural they receive less engagement. Retweets are made visible to all followers, but perform differently than regular tweets because they weren't posted by the user we're analyzing."
   ]
  },
  {
   "cell_type": "markdown",
   "metadata": {
    "collapsed": false
   },
   "source": [
    "## Post-\"extraneous tweet removal\" plots"
   ]
  },
  {
   "cell_type": "code",
   "execution_count": 6,
   "metadata": {
    "collapsed": false,
    "scrolled": true
   },
   "outputs": [
    {
     "data": {
      "text/plain": [
       "(1379, 16)"
      ]
     },
     "execution_count": 6,
     "metadata": {
     },
     "output_type": "execute_result"
    }
   ],
   "source": [
    "data = data[data['Tweet Type'] == 'Tweet']\n",
    "data[['Text','Tweet Type']] # all tweets are users from @Ninja, no retweets, no replies\n",
    "data.shape"
   ]
  },
  {
   "cell_type": "code",
   "execution_count": 7,
   "metadata": {
    "collapsed": false
   },
   "outputs": [
    {
     "data": {
      "image/png": "[encoded data removed]",
      "text/plain": [
       "<Figure size 1152x576 with 6 Axes>"
      ]
     },
     "execution_count": 7,
     "metadata": {
      "needs_background": "light"
     },
     "output_type": "execute_result"
    }
   ],
   "source": [
    "fig, axs = plt.subplots(3, 2, figsize=(16,8))\n",
    "\n",
    "axs[0, 0].plot(data['Favorites'][-100:], color='gold')\n",
    "axs[0, 0].set_title(\"Favorite count of Ninja's last 100 tweets\")\n",
    "axs[0, 0].set_xlabel('Post number')\n",
    "axs[0, 0].set_ylabel('Favorites')\n",
    "\n",
    "axs[0, 1].plot(data['Favorites'], color='gold')\n",
    "axs[0, 1].set_title(\"All favorite counts of Ninja's tweets\")\n",
    "axs[0, 1].set_xlabel('Post number')\n",
    "axs[0, 1].set_ylabel('Favorites')\n",
    "\n",
    "axs[1, 0].plot(data['Retweets'][-100:], color='green')\n",
    "axs[1, 0].set_title(\"Retweet count of Ninja's last 100 tweets\")\n",
    "axs[1, 0].set_xlabel('Post number')\n",
    "axs[1, 0].set_ylabel('Retweets')\n",
    "\n",
    "axs[1, 1].plot(data['Retweets'], color='green')\n",
    "axs[1, 1].set_title(\"All retweet counts of Ninja's tweets\")\n",
    "axs[1, 1].set_xlabel('Post number')\n",
    "axs[1, 1].set_ylabel('Retweets')\n",
    "\n",
    "bins = 100\n",
    "axs[2, 0].hist(data['Favorites'], bins, facecolor='gold', edgecolor='black')\n",
    "axs[2, 0].set_title(\"Histogram of favorites on Ninja's tweets\")\n",
    "axs[2, 0].set_xlabel(\"Favorites\")\n",
    "axs[2, 0].set_ylabel(\"Count\")\n",
    "\n",
    "axs[2, 1].hist(data['Retweets'], bins, facecolor='green', edgecolor='black')\n",
    "axs[2, 1].set_title(\"Histogram of retweets on Ninja's tweets\")\n",
    "axs[2, 1].set_xlabel(\"Retweets\")\n",
    "axs[2, 1].set_ylabel(\"Count\")\n",
    "\n",
    "fig.subplots_adjust(left=0.0, right=1.0, bottom=0.0, top=1.0,\n",
    "                    hspace=0.5, wspace=0.2)"
   ]
  },
  {
   "cell_type": "markdown",
   "metadata": {
    "collapsed": false
   },
   "source": [
    "After removing these unneccessary tweets, we still see a lot of variation, but it is less extreme across all plots."
   ]
  },
  {
   "cell_type": "markdown",
   "metadata": {
    "collapsed": false
   },
   "source": [
    "Here we print out the text head and tail before running it through our \"text cleaner\" just to test the affects it has on our dataset. "
   ]
  },
  {
   "cell_type": "markdown",
   "metadata": {
    "collapsed": false
   },
   "source": [
    "# Models"
   ]
  },
  {
   "cell_type": "markdown",
   "metadata": {
    "collapsed": false
   },
   "source": [
    "### NLP - TextBlob"
   ]
  },
  {
   "cell_type": "markdown",
   "metadata": {
    "collapsed": false
   },
   "source": [
    "The primary model we use is a form a natural language processor (NLP). We are using the textblob library as we deemed the NLTK library slightly too 'heavy' and tedious for our project. The textblob library is based off of NLTK as well as Pattern. TextBlob provides easy access to functions that provide sentiment analysis as well as noun phrase extraction. Furthermore, TextBlob is also very beginner friendly and easy-to-use. So far in our project we apply TextBlob functions that return subjectivity and polarity. The polarity function returns a float value between -1 and 1 where 1 is a positive statemnt and -1 is a negative statement. The subjectivity function also returns a float value between 0 and 1 depending on how subjective or objective the statement is. The higher the subjectivity value the more likely the statement is to be an opinion. \n",
    "\n",
    "In addition to applying TextBlob, we also apply WordCloud to study which words are the most commonly tweeted and how this would affect engagement. There may be buzzwords on twitter that can generate more engagement than others, and this is something we must look into.  "
   ]
  },
  {
   "cell_type": "code",
   "execution_count": 8,
   "metadata": {
    "collapsed": false
   },
   "outputs": [
    {
     "data": {
      "text/html": [
       "<div>\n",
       "<style scoped>\n",
       "    .dataframe tbody tr th:only-of-type {\n",
       "        vertical-align: middle;\n",
       "    }\n",
       "\n",
       "    .dataframe tbody tr th {\n",
       "        vertical-align: top;\n",
       "    }\n",
       "\n",
       "    .dataframe thead th {\n",
       "        text-align: right;\n",
       "    }\n",
       "</style>\n",
       "<table border=\"1\" class=\"dataframe\">\n",
       "  <thead>\n",
       "    <tr style=\"text-align: right;\">\n",
       "      <th></th>\n",
       "      <th>Text</th>\n",
       "    </tr>\n",
       "  </thead>\n",
       "  <tbody>\n",
       "    <tr>\n",
       "      <td>0</td>\n",
       "      <td>Duo quads w/ @cloakzy and hit this weird clip ...</td>\n",
       "    </tr>\n",
       "    <tr>\n",
       "      <td>4</td>\n",
       "      <td>Familiar, and Fire! Also, great job raising 17...</td>\n",
       "    </tr>\n",
       "    <tr>\n",
       "      <td>5</td>\n",
       "      <td>I remember this like it was yesterday!\\n\\nChec...</td>\n",
       "    </tr>\n",
       "    <tr>\n",
       "      <td>6</td>\n",
       "      <td>Live for the day\\n\\nhttps://t.co/lvn9KBjEYq</td>\n",
       "    </tr>\n",
       "    <tr>\n",
       "      <td>7</td>\n",
       "      <td>Happy birthday to one of my best friends @Jord...</td>\n",
       "    </tr>\n",
       "  </tbody>\n",
       "</table>\n",
       "</div>"
      ],
      "text/plain": [
       "                                                Text\n",
       "0  Duo quads w/ @cloakzy and hit this weird clip ...\n",
       "4  Familiar, and Fire! Also, great job raising 17...\n",
       "5  I remember this like it was yesterday!\\n\\nChec...\n",
       "6        Live for the day\\n\\nhttps://t.co/lvn9KBjEYq\n",
       "7  Happy birthday to one of my best friends @Jord..."
      ]
     },
     "execution_count": 8,
     "metadata": {
     },
     "output_type": "execute_result"
    }
   ],
   "source": [
    "data[['Text']].head()"
   ]
  },
  {
   "cell_type": "code",
   "execution_count": 9,
   "metadata": {
    "collapsed": false
   },
   "outputs": [
    {
     "data": {
      "text/html": [
       "<div>\n",
       "<style scoped>\n",
       "    .dataframe tbody tr th:only-of-type {\n",
       "        vertical-align: middle;\n",
       "    }\n",
       "\n",
       "    .dataframe tbody tr th {\n",
       "        vertical-align: top;\n",
       "    }\n",
       "\n",
       "    .dataframe thead th {\n",
       "        text-align: right;\n",
       "    }\n",
       "</style>\n",
       "<table border=\"1\" class=\"dataframe\">\n",
       "  <thead>\n",
       "    <tr style=\"text-align: right;\">\n",
       "      <th></th>\n",
       "      <th>Text</th>\n",
       "    </tr>\n",
       "  </thead>\n",
       "  <tbody>\n",
       "    <tr>\n",
       "      <td>3178</td>\n",
       "      <td>https://t.co/grTQt2ZhSQ https://t.co/N0TwomPLL7</td>\n",
       "    </tr>\n",
       "    <tr>\n",
       "      <td>3179</td>\n",
       "      <td>Hopping into squads immediately with @DrLupo @...</td>\n",
       "    </tr>\n",
       "    <tr>\n",
       "      <td>3186</td>\n",
       "      <td>Happy birthday to the guy who makes videos you...</td>\n",
       "    </tr>\n",
       "    <tr>\n",
       "      <td>3188</td>\n",
       "      <td>wow @IamTrevorMay</td>\n",
       "    </tr>\n",
       "    <tr>\n",
       "      <td>3190</td>\n",
       "      <td>New video is up!  https://t.co/2YFQPf1T1F via ...</td>\n",
       "    </tr>\n",
       "  </tbody>\n",
       "</table>\n",
       "</div>"
      ],
      "text/plain": [
       "                                                   Text\n",
       "3178    https://t.co/grTQt2ZhSQ https://t.co/N0TwomPLL7\n",
       "3179  Hopping into squads immediately with @DrLupo @...\n",
       "3186  Happy birthday to the guy who makes videos you...\n",
       "3188                                  wow @IamTrevorMay\n",
       "3190  New video is up!  https://t.co/2YFQPf1T1F via ..."
      ]
     },
     "execution_count": 9,
     "metadata": {
     },
     "output_type": "execute_result"
    }
   ],
   "source": [
    "data[['Text']].tail()"
   ]
  },
  {
   "cell_type": "markdown",
   "metadata": {
    "collapsed": false
   },
   "source": [
    "We are using a function to remove parts of the tweet we deem unnecessary. These include @mentions, hastags, retweets tags, and hyperlinks. "
   ]
  },
  {
   "cell_type": "code",
   "execution_count": 10,
   "metadata": {
    "collapsed": false
   },
   "outputs": [
   ],
   "source": [
    "# Create a function to clean the tweets\n",
    "import re\n",
    "def cleanTxt(text):\n",
    " text = re.sub('@[A-Za-z0–9]+', '', text) #Removing @mentions\n",
    " text = re.sub('#', '', text) # Removing '#' hash tag\n",
    " text = re.sub('RT[\\s]+', '', text) # Removing RT\n",
    " text = re.sub('https?:\\/\\/\\S+', '', text) # Removing hyperlink\n",
    " text = re.sub('\\n', '', text) # Removing newline\n",
    " \n",
    " return text"
   ]
  },
  {
   "cell_type": "code",
   "execution_count": 11,
   "metadata": {
    "collapsed": false
   },
   "outputs": [
    {
     "data": {
      "text/plain": [
       "0              Duo quads w/  and hit this weird clip LOL \n",
       "4       Familiar, and Fire! Also, great job raising 17...\n",
       "5       I remember this like it was yesterday!Check ou...\n",
       "6                                        Live for the day\n",
       "7       Happy birthday to one of my best friends _Fish...\n",
       "                              ...                        \n",
       "3178                                                     \n",
       "3179    Hopping into squads immediately with  _Ruski a...\n",
       "3186    Happy birthday to the guy who makes videos you...\n",
       "3188                                                 wow \n",
       "3190                              New video is up!   via \n",
       "Name: Text, Length: 1379, dtype: object"
      ]
     },
     "execution_count": 11,
     "metadata": {
     },
     "output_type": "execute_result"
    }
   ],
   "source": [
    "# Clean the tweets\n",
    "data['Text'] = data['Text'].apply(cleanTxt)\n",
    "\n",
    "# Show the cleaned tweets\n",
    "data['Text']"
   ]
  },
  {
   "cell_type": "markdown",
   "metadata": {
    "collapsed": false
   },
   "source": [
    "To measure tweet sentiment we apply two TextBlob functions. "
   ]
  },
  {
   "cell_type": "code",
   "execution_count": 12,
   "metadata": {
    "collapsed": false
   },
   "outputs": [
   ],
   "source": [
    "# Create a function to get the subjectivity\n",
    "def getSubjectivity(text):\n",
    "   return TextBlob(text).sentiment.subjectivity\n",
    "\n",
    "# Create a function to get the polarity\n",
    "def getPolarity(text):\n",
    "   return  TextBlob(text).sentiment.polarity\n"
   ]
  },
  {
   "cell_type": "markdown",
   "metadata": {
    "collapsed": false
   },
   "source": [
    "To make it easier to analyze the relationship between tweets and sentiment, we add columns for subjectivity and polarity into our dataset. "
   ]
  },
  {
   "cell_type": "code",
   "execution_count": 13,
   "metadata": {
    "collapsed": false
   },
   "outputs": [
   ],
   "source": [
    "# Create two new columns 'Subjectivity' & 'Polarity'\n",
    "data['Subjectivity'] = data['Text'].apply(getSubjectivity)\n",
    "data['Polarity'] = data['Text'].apply(getPolarity)\n"
   ]
  },
  {
   "cell_type": "markdown",
   "metadata": {
    "collapsed": false
   },
   "source": [
    "Now a vizualisation of the change. "
   ]
  },
  {
   "cell_type": "code",
   "execution_count": 14,
   "metadata": {
    "collapsed": false
   },
   "outputs": [
    {
     "data": {
      "text/html": [
       "<div>\n",
       "<style scoped>\n",
       "    .dataframe tbody tr th:only-of-type {\n",
       "        vertical-align: middle;\n",
       "    }\n",
       "\n",
       "    .dataframe tbody tr th {\n",
       "        vertical-align: top;\n",
       "    }\n",
       "\n",
       "    .dataframe thead th {\n",
       "        text-align: right;\n",
       "    }\n",
       "</style>\n",
       "<table border=\"1\" class=\"dataframe\">\n",
       "  <thead>\n",
       "    <tr style=\"text-align: right;\">\n",
       "      <th></th>\n",
       "      <th>Text</th>\n",
       "      <th>Subjectivity</th>\n",
       "      <th>Polarity</th>\n",
       "    </tr>\n",
       "  </thead>\n",
       "  <tbody>\n",
       "    <tr>\n",
       "      <td>0</td>\n",
       "      <td>Duo quads w/  and hit this weird clip LOL</td>\n",
       "      <td>0.850000</td>\n",
       "      <td>0.150000</td>\n",
       "    </tr>\n",
       "    <tr>\n",
       "      <td>4</td>\n",
       "      <td>Familiar, and Fire! Also, great job raising 17...</td>\n",
       "      <td>0.625000</td>\n",
       "      <td>0.634375</td>\n",
       "    </tr>\n",
       "    <tr>\n",
       "      <td>5</td>\n",
       "      <td>I remember this like it was yesterday!Check ou...</td>\n",
       "      <td>0.000000</td>\n",
       "      <td>0.000000</td>\n",
       "    </tr>\n",
       "    <tr>\n",
       "      <td>6</td>\n",
       "      <td>Live for the day</td>\n",
       "      <td>0.500000</td>\n",
       "      <td>0.136364</td>\n",
       "    </tr>\n",
       "    <tr>\n",
       "      <td>7</td>\n",
       "      <td>Happy birthday to one of my best friends _Fish...</td>\n",
       "      <td>0.760000</td>\n",
       "      <td>0.640000</td>\n",
       "    </tr>\n",
       "    <tr>\n",
       "      <td>...</td>\n",
       "      <td>...</td>\n",
       "      <td>...</td>\n",
       "      <td>...</td>\n",
       "    </tr>\n",
       "    <tr>\n",
       "      <td>3178</td>\n",
       "      <td></td>\n",
       "      <td>0.000000</td>\n",
       "      <td>0.000000</td>\n",
       "    </tr>\n",
       "    <tr>\n",
       "      <td>3179</td>\n",
       "      <td>Hopping into squads immediately with  _Ruski a...</td>\n",
       "      <td>0.000000</td>\n",
       "      <td>0.000000</td>\n",
       "    </tr>\n",
       "    <tr>\n",
       "      <td>3186</td>\n",
       "      <td>Happy birthday to the guy who makes videos you...</td>\n",
       "      <td>1.000000</td>\n",
       "      <td>1.000000</td>\n",
       "    </tr>\n",
       "    <tr>\n",
       "      <td>3188</td>\n",
       "      <td>wow</td>\n",
       "      <td>1.000000</td>\n",
       "      <td>0.100000</td>\n",
       "    </tr>\n",
       "    <tr>\n",
       "      <td>3190</td>\n",
       "      <td>New video is up!   via</td>\n",
       "      <td>0.454545</td>\n",
       "      <td>0.170455</td>\n",
       "    </tr>\n",
       "  </tbody>\n",
       "</table>\n",
       "<p>1379 rows × 3 columns</p>\n",
       "</div>"
      ],
      "text/plain": [
       "                                                   Text  Subjectivity  \\\n",
       "0            Duo quads w/  and hit this weird clip LOL       0.850000   \n",
       "4     Familiar, and Fire! Also, great job raising 17...      0.625000   \n",
       "5     I remember this like it was yesterday!Check ou...      0.000000   \n",
       "6                                      Live for the day      0.500000   \n",
       "7     Happy birthday to one of my best friends _Fish...      0.760000   \n",
       "...                                                 ...           ...   \n",
       "3178                                                         0.000000   \n",
       "3179  Hopping into squads immediately with  _Ruski a...      0.000000   \n",
       "3186  Happy birthday to the guy who makes videos you...      1.000000   \n",
       "3188                                               wow       1.000000   \n",
       "3190                            New video is up!   via       0.454545   \n",
       "\n",
       "      Polarity  \n",
       "0     0.150000  \n",
       "4     0.634375  \n",
       "5     0.000000  \n",
       "6     0.136364  \n",
       "7     0.640000  \n",
       "...        ...  \n",
       "3178  0.000000  \n",
       "3179  0.000000  \n",
       "3186  1.000000  \n",
       "3188  0.100000  \n",
       "3190  0.170455  \n",
       "\n",
       "[1379 rows x 3 columns]"
      ]
     },
     "execution_count": 14,
     "metadata": {
     },
     "output_type": "execute_result"
    }
   ],
   "source": [
    "data[['Text','Subjectivity','Polarity']]"
   ]
  },
  {
   "cell_type": "markdown",
   "metadata": {
    "collapsed": false
   },
   "source": [
    "Once subjectivity and polarity have been implemented, it would be helpful to implement a function that marks tweets as either positive, negative, or neutral. "
   ]
  },
  {
   "cell_type": "code",
   "execution_count": 15,
   "metadata": {
    "collapsed": false
   },
   "outputs": [
    {
     "data": {
      "text/html": [
       "<div>\n",
       "<style scoped>\n",
       "    .dataframe tbody tr th:only-of-type {\n",
       "        vertical-align: middle;\n",
       "    }\n",
       "\n",
       "    .dataframe tbody tr th {\n",
       "        vertical-align: top;\n",
       "    }\n",
       "\n",
       "    .dataframe thead th {\n",
       "        text-align: right;\n",
       "    }\n",
       "</style>\n",
       "<table border=\"1\" class=\"dataframe\">\n",
       "  <thead>\n",
       "    <tr style=\"text-align: right;\">\n",
       "      <th></th>\n",
       "      <th>Text</th>\n",
       "      <th>Subjectivity</th>\n",
       "      <th>Polarity</th>\n",
       "      <th>Analysis</th>\n",
       "    </tr>\n",
       "  </thead>\n",
       "  <tbody>\n",
       "    <tr>\n",
       "      <td>0</td>\n",
       "      <td>Duo quads w/  and hit this weird clip LOL</td>\n",
       "      <td>0.850000</td>\n",
       "      <td>0.150000</td>\n",
       "      <td>Positive</td>\n",
       "    </tr>\n",
       "    <tr>\n",
       "      <td>4</td>\n",
       "      <td>Familiar, and Fire! Also, great job raising 17...</td>\n",
       "      <td>0.625000</td>\n",
       "      <td>0.634375</td>\n",
       "      <td>Positive</td>\n",
       "    </tr>\n",
       "    <tr>\n",
       "      <td>5</td>\n",
       "      <td>I remember this like it was yesterday!Check ou...</td>\n",
       "      <td>0.000000</td>\n",
       "      <td>0.000000</td>\n",
       "      <td>Neutral</td>\n",
       "    </tr>\n",
       "    <tr>\n",
       "      <td>6</td>\n",
       "      <td>Live for the day</td>\n",
       "      <td>0.500000</td>\n",
       "      <td>0.136364</td>\n",
       "      <td>Positive</td>\n",
       "    </tr>\n",
       "    <tr>\n",
       "      <td>7</td>\n",
       "      <td>Happy birthday to one of my best friends _Fish...</td>\n",
       "      <td>0.760000</td>\n",
       "      <td>0.640000</td>\n",
       "      <td>Positive</td>\n",
       "    </tr>\n",
       "    <tr>\n",
       "      <td>...</td>\n",
       "      <td>...</td>\n",
       "      <td>...</td>\n",
       "      <td>...</td>\n",
       "      <td>...</td>\n",
       "    </tr>\n",
       "    <tr>\n",
       "      <td>3178</td>\n",
       "      <td></td>\n",
       "      <td>0.000000</td>\n",
       "      <td>0.000000</td>\n",
       "      <td>Neutral</td>\n",
       "    </tr>\n",
       "    <tr>\n",
       "      <td>3179</td>\n",
       "      <td>Hopping into squads immediately with  _Ruski a...</td>\n",
       "      <td>0.000000</td>\n",
       "      <td>0.000000</td>\n",
       "      <td>Neutral</td>\n",
       "    </tr>\n",
       "    <tr>\n",
       "      <td>3186</td>\n",
       "      <td>Happy birthday to the guy who makes videos you...</td>\n",
       "      <td>1.000000</td>\n",
       "      <td>1.000000</td>\n",
       "      <td>Positive</td>\n",
       "    </tr>\n",
       "    <tr>\n",
       "      <td>3188</td>\n",
       "      <td>wow</td>\n",
       "      <td>1.000000</td>\n",
       "      <td>0.100000</td>\n",
       "      <td>Positive</td>\n",
       "    </tr>\n",
       "    <tr>\n",
       "      <td>3190</td>\n",
       "      <td>New video is up!   via</td>\n",
       "      <td>0.454545</td>\n",
       "      <td>0.170455</td>\n",
       "      <td>Positive</td>\n",
       "    </tr>\n",
       "  </tbody>\n",
       "</table>\n",
       "<p>1379 rows × 4 columns</p>\n",
       "</div>"
      ],
      "text/plain": [
       "                                                   Text  Subjectivity  \\\n",
       "0            Duo quads w/  and hit this weird clip LOL       0.850000   \n",
       "4     Familiar, and Fire! Also, great job raising 17...      0.625000   \n",
       "5     I remember this like it was yesterday!Check ou...      0.000000   \n",
       "6                                      Live for the day      0.500000   \n",
       "7     Happy birthday to one of my best friends _Fish...      0.760000   \n",
       "...                                                 ...           ...   \n",
       "3178                                                         0.000000   \n",
       "3179  Hopping into squads immediately with  _Ruski a...      0.000000   \n",
       "3186  Happy birthday to the guy who makes videos you...      1.000000   \n",
       "3188                                               wow       1.000000   \n",
       "3190                            New video is up!   via       0.454545   \n",
       "\n",
       "      Polarity  Analysis  \n",
       "0     0.150000  Positive  \n",
       "4     0.634375  Positive  \n",
       "5     0.000000   Neutral  \n",
       "6     0.136364  Positive  \n",
       "7     0.640000  Positive  \n",
       "...        ...       ...  \n",
       "3178  0.000000   Neutral  \n",
       "3179  0.000000   Neutral  \n",
       "3186  1.000000  Positive  \n",
       "3188  0.100000  Positive  \n",
       "3190  0.170455  Positive  \n",
       "\n",
       "[1379 rows x 4 columns]"
      ]
     },
     "execution_count": 15,
     "metadata": {
     },
     "output_type": "execute_result"
    }
   ],
   "source": [
    "# Create a function to compute negative (-1), neutral (0) and positive (+1) analysis\n",
    "def getAnalysis(score):\n",
    "    if score < 0:\n",
    "      return 'Negative'\n",
    "    elif score == 0:\n",
    "      return 'Neutral'\n",
    "    else:\n",
    "      return 'Positive'\n",
    "#add an analysis colum\n",
    "data['Analysis'] = data['Polarity'].apply(getAnalysis)\n",
    "# Show the dataframe\n",
    "data[['Text','Subjectivity','Polarity','Analysis']]"
   ]
  },
  {
   "cell_type": "markdown",
   "metadata": {
    "collapsed": false
   },
   "source": [
    "At this point we can start attempting to analyze the content of the tweets and see what we can uncover. We will first add a word cloud visualization to see which words are most positive. Furthermore we will also list the most positive and the most negative tweets. "
   ]
  },
  {
   "cell_type": "code",
   "execution_count": 16,
   "metadata": {
    "collapsed": false
   },
   "outputs": [
    {
     "data": {
      "image/png": "[encoded data removed]",
      "text/plain": [
       "<Figure size 432x288 with 1 Axes>"
      ]
     },
     "execution_count": 16,
     "metadata": {
      "needs_background": "light"
     },
     "output_type": "execute_result"
    }
   ],
   "source": [
    "# word cloud visualization\n",
    "allWords = ' '.join([twts for twts in data['Text']])\n",
    "wordCloud = WordCloud(width=500, height=300, random_state=21, max_font_size=110).generate(allWords)\n",
    "\n",
    "\n",
    "plt.imshow(wordCloud, interpolation=\"bilinear\")\n",
    "plt.axis('off')\n",
    "plt.show()"
   ]
  },
  {
   "cell_type": "code",
   "execution_count": 17,
   "metadata": {
    "collapsed": false,
    "scrolled": true
   },
   "outputs": [
    {
     "name": "stdout",
     "output_type": "stream",
     "text": [
      "Printing positive tweets:\n",
      "\n",
      "1. Leave it up to the lions to make the Bears offense look like the best in the league.\n",
      "Polarity = 1.0\n",
      "\n",
      "\n",
      "2. 64 points w/ ma boy 2k_ we Didn't qualify but if you guys saw our start... LOL 15 points 4 games in and then we turned it up. I will be at the World cup in NYC no matter what though! And thank you  for the opportunity.\n",
      "Polarity = 1.0\n",
      "\n",
      "\n",
      "3. One of the best gifts I’ve ever gotten. Courtesy of 10 and  \n",
      "Polarity = 1.0\n",
      "\n",
      "\n",
      "4. This is the greatest thing ever \n",
      "Polarity = 1.0\n",
      "\n",
      "\n",
      "5. Demon slayer is going to become the greatest Anime of all time change my mind.  \n",
      "Polarity = 1.0\n",
      "\n",
      "\n",
      "6. I will be the best minecrafter off all time and it wont even be close. Give me time. \n",
      "Polarity = 1.0\n",
      "\n",
      "\n",
      "7. Congrats to the best solo player in the world, and it's not even close  \n",
      "Polarity = 1.0\n",
      "\n",
      "\n",
      "8. Streaming all day :D\n",
      "Polarity = 1.0\n",
      "\n",
      "\n",
      "9. That might be the best touchdown Catch of the season\n",
      "Polarity = 1.0\n",
      "\n",
      "\n",
      "10. Streaming some Fortnite :D My one goal... Not to die because of the turbo build nerf. \n",
      "Polarity = 1.0\n",
      "\n",
      "\n"
     ]
    }
   ],
   "source": [
    "# Printing positive tweets\n",
    "sortedDF = data.sort_values(by=['Polarity'], ascending=False) #Sort the tweets\n",
    "sortedDF = sortedDF.reset_index(drop=True) #Reorder indices\n",
    "print('Printing positive tweets:\\n')\n",
    "for i in range(1,11):\n",
    "    print(str(i) + \". \" + sortedDF['Text'][i])\n",
    "    print(\"Polarity = \" + str(sortedDF['Polarity'][i]))\n",
    "    print(\"\\n\")"
   ]
  },
  {
   "cell_type": "code",
   "execution_count": 18,
   "metadata": {
    "collapsed": false
   },
   "outputs": [
    {
     "name": "stdout",
     "output_type": "stream",
     "text": [
      "Printing negative tweets:\n",
      "\n",
      "1. I just filmed what could be the weirdest thing I have ever done and it will be insanely memeable.\n",
      "Polarity = -1.0\n",
      "\n",
      "\n",
      "2. Tag the worst gamer in your squad  \n",
      "Polarity = -1.0\n",
      "\n",
      "\n",
      "3. I’ll say it... I’ll say it!! “Say it” .... Salty springs is the worst POI ever 🥴\n",
      "Polarity = -1.0\n",
      "\n",
      "\n",
      "4. DON'T GET IT TWISTED!!! I SAID GET FOOD FOR ONE ANOTHER! &lt;3 \n",
      "Polarity = -1.0\n",
      "\n",
      "\n",
      "5. MY AIM IS TOO NASTY! FT. SYPHERPK, TIMTHETATMAN &amp; COURAGEJDFull video here: ▶️  \n",
      "Polarity = -1.0\n",
      "\n",
      "\n",
      "6. Hate when this happens 😔 \n",
      "Polarity = -0.8\n",
      "\n",
      "\n",
      "7. I hate confrontation\n",
      "Polarity = -0.8\n",
      "\n",
      "\n",
      "8. Missed qualifying by 2 points :(\n",
      "Polarity = -0.75\n",
      "\n",
      "\n",
      "9. Merry Christmas :( \n",
      "Polarity = -0.75\n",
      "\n",
      "\n",
      "10. That didn’t help at all :(  \n",
      "Polarity = -0.75\n",
      "\n",
      "\n"
     ]
    }
   ],
   "source": [
    "# Printing negative tweets  \n",
    "sortedDF = data.sort_values(by=['Polarity']) #Sort the tweets\n",
    "sortedDF = sortedDF.reset_index(drop=True) #Reorder indices\n",
    "print('Printing negative tweets:\\n')\n",
    "for i in range(1,11):\n",
    "    print(str(i) + \". \" + sortedDF['Text'][i])\n",
    "    print(\"Polarity = \" + str(sortedDF['Polarity'][i]))\n",
    "    print(\"\\n\")"
   ]
  },
  {
   "cell_type": "markdown",
   "metadata": {
    "collapsed": false
   },
   "source": [
    "The following is a plot to see if there is a trend between subjectivity and polarity:"
   ]
  },
  {
   "cell_type": "code",
   "execution_count": 19,
   "metadata": {
    "collapsed": false
   },
   "outputs": [
    {
     "data": {
      "image/png": "[encoded data removed]",
      "text/plain": [
       "<Figure size 576x432 with 1 Axes>"
      ]
     },
     "execution_count": 19,
     "metadata": {
      "needs_background": "light"
     },
     "output_type": "execute_result"
    }
   ],
   "source": [
    "data = data.reset_index(drop=True) #reorder indices\n",
    "plt.figure(figsize=(8,6)) \n",
    "for i in range(0, data.shape[0]):\n",
    "  plt.scatter(data[\"Polarity\"][i], data[\"Subjectivity\"][i], color='Blue') # plt.scatter(x,y,color)   \n",
    "plt.title('Sentiment Analysis') \n",
    "plt.xlabel('Polarity') \n",
    "plt.ylabel('Subjectivity') \n",
    "plt.show()"
   ]
  },
  {
   "cell_type": "markdown",
   "metadata": {
    "collapsed": false
   },
   "source": [
    "Furthermore, we wanted to see the overall values of positive vs. negative as well as neutral tweets."
   ]
  },
  {
   "cell_type": "code",
   "execution_count": 20,
   "metadata": {
    "collapsed": false
   },
   "outputs": [
    {
     "data": {
      "text/plain": [
       "Positive    732\n",
       "Neutral     455\n",
       "Negative    192\n",
       "Name: Analysis, dtype: int64"
      ]
     },
     "execution_count": 20,
     "metadata": {
     },
     "output_type": "execute_result"
    }
   ],
   "source": [
    "data['Analysis'].value_counts()"
   ]
  },
  {
   "cell_type": "markdown",
   "metadata": {
    "collapsed": false
   },
   "source": [
    "A visualition of the data follows: "
   ]
  },
  {
   "cell_type": "code",
   "execution_count": 21,
   "metadata": {
    "collapsed": false
   },
   "outputs": [
    {
     "data": {
      "image/png": "[encoded data removed]",
      "text/plain": [
       "<Figure size 432x288 with 1 Axes>"
      ]
     },
     "execution_count": 21,
     "metadata": {
      "needs_background": "light"
     },
     "output_type": "execute_result"
    }
   ],
   "source": [
    "# Plotting and visualizing the counts\n",
    "plt.title('Sentiment Analysis')\n",
    "plt.xlabel('Sentiment')\n",
    "plt.ylabel('Counts')\n",
    "data['Analysis'].value_counts().plot(kind = 'bar')\n",
    "plt.show()"
   ]
  },
  {
   "cell_type": "markdown",
   "metadata": {
    "collapsed": false
   },
   "source": [
    "### Linear Regression "
   ]
  },
  {
   "cell_type": "markdown",
   "metadata": {
    "collapsed": false
   },
   "source": [
    "We will be using linear regression to analyze patterns between these continuous features, and the engagement (retweets and favorites)."
   ]
  },
  {
   "cell_type": "markdown",
   "metadata": {
    "collapsed": false
   },
   "source": [
    "#### Polarity vs. engagement\n",
    "\n",
    "Here we use a linear regression between polarity and retweet count. We use this to predict the number of retweets we get on a polarity score on an input tweet."
   ]
  },
  {
   "cell_type": "code",
   "execution_count": 22,
   "metadata": {
    "collapsed": false
   },
   "outputs": [
    {
     "name": "stdout",
     "output_type": "stream",
     "text": [
      "2.727373397948263e-05\n"
     ]
    }
   ],
   "source": [
    "from sklearn.model_selection import train_test_split \n",
    "from sklearn.linear_model import LinearRegression, LogisticRegression\n",
    "X=data['Polarity'].values.reshape(-1,1)\n",
    "y=data['Retweets'].values.reshape(-1,1)\n",
    "X_train, X_test, y_train, y_test = train_test_split(X, y, test_size=0.2, random_state=0)\n",
    "\n",
    "regressor = LinearRegression()  \n",
    "regressor.fit(X_train, y_train) #training the algorithm\n",
    "print(regressor.score(X_test, y_test))"
   ]
  },
  {
   "cell_type": "markdown",
   "metadata": {
    "collapsed": false
   },
   "source": [
    "This is super low, suggesting that tweet polarity isn't a good predictor of engagement. Let's try with favorites now."
   ]
  },
  {
   "cell_type": "code",
   "execution_count": 23,
   "metadata": {
    "collapsed": false
   },
   "outputs": [
    {
     "name": "stdout",
     "output_type": "stream",
     "text": [
      "0.001159248055018658\n"
     ]
    }
   ],
   "source": [
    "X=data['Polarity'].values.reshape(-1,1)\n",
    "y=data['Favorites'].values.reshape(-1,1)\n",
    "X_train, X_test, y_train, y_test = train_test_split(X, y, test_size=0.2, random_state=0)\n",
    "\n",
    "regressor = LinearRegression()  \n",
    "regressor.fit(X_train, y_train) #training the algorithm\n",
    "print(regressor.score(X_test, y_test))"
   ]
  },
  {
   "cell_type": "markdown",
   "metadata": {
    "collapsed": false
   },
   "source": [
    "Still very low, but an improvment nonetheless. Lets look at sentiment instead."
   ]
  },
  {
   "cell_type": "markdown",
   "metadata": {
    "collapsed": false
   },
   "source": [
    "#### Subjectivity vs. engagement"
   ]
  },
  {
   "cell_type": "code",
   "execution_count": 24,
   "metadata": {
    "collapsed": false
   },
   "outputs": [
    {
     "name": "stdout",
     "output_type": "stream",
     "text": [
      "-0.0012430111550842948\n"
     ]
    }
   ],
   "source": [
    "X=data['Subjectivity'].values.reshape(-1,1)\n",
    "y=data['Retweets'].values.reshape(-1,1)\n",
    "X_train, X_test, y_train, y_test = train_test_split(X, y, test_size=0.2, random_state=0)\n",
    "\n",
    "regressor = LinearRegression()  \n",
    "regressor.fit(X_train, y_train) #training the algorithm\n",
    "print(regressor.score(X_test, y_test))"
   ]
  },
  {
   "cell_type": "code",
   "execution_count": 25,
   "metadata": {
    "collapsed": false
   },
   "outputs": [
    {
     "name": "stdout",
     "output_type": "stream",
     "text": [
      "0.00039148757861018346\n"
     ]
    }
   ],
   "source": [
    "X=data['Subjectivity'].values.reshape(-1,1)\n",
    "y=data['Favorites'].values.reshape(-1,1)\n",
    "X_train, X_test, y_train, y_test = train_test_split(X, y, test_size=0.2, random_state=0)\n",
    "\n",
    "regressor = LinearRegression()  \n",
    "regressor.fit(X_train, y_train) #training the algorithm\n",
    "print(regressor.score(X_test, y_test))"
   ]
  },
  {
   "cell_type": "markdown",
   "metadata": {
    "collapsed": false
   },
   "source": [
    "Again, almost no predictive power."
   ]
  },
  {
   "cell_type": "markdown",
   "metadata": {
    "collapsed": false
   },
   "source": [
    "#### Hashtags vs. engagment"
   ]
  },
  {
   "cell_type": "markdown",
   "metadata": {
    "collapsed": false
   },
   "source": [
    "Would including hashtags affect engagement?"
   ]
  },
  {
   "cell_type": "code",
   "execution_count": 26,
   "metadata": {
    "collapsed": false
   },
   "outputs": [
    {
     "name": "stdout",
     "output_type": "stream",
     "text": [
      "-0.006195348768137876\n"
     ]
    }
   ],
   "source": [
    "X=data['Hashtags'].values.reshape(-1,1)\n",
    "y=data['Retweets'].values.reshape(-1,1)\n",
    "X_train, X_test, y_train, y_test = train_test_split(X, y, test_size=0.2, random_state=0)\n",
    "\n",
    "regressor = LinearRegression()  \n",
    "regressor.fit(X_train, y_train) #training the algorithm\n",
    "print(regressor.score(X_test, y_test))"
   ]
  },
  {
   "cell_type": "code",
   "execution_count": 27,
   "metadata": {
    "collapsed": false
   },
   "outputs": [
    {
     "name": "stdout",
     "output_type": "stream",
     "text": [
      "-0.001648722712294326\n"
     ]
    }
   ],
   "source": [
    "X=data['Hashtags'].values.reshape(-1,1)\n",
    "y=data['Favorites'].values.reshape(-1,1)\n",
    "X_train, X_test, y_train, y_test = train_test_split(X, y, test_size=0.2, random_state=0)\n",
    "\n",
    "regressor = LinearRegression()  \n",
    "regressor.fit(X_train, y_train) #training the algorithm\n",
    "print(regressor.score(X_test, y_test))"
   ]
  },
  {
   "cell_type": "markdown",
   "metadata": {
    "collapsed": false
   },
   "source": [
    "#### User mentions vs. engagment"
   ]
  },
  {
   "cell_type": "markdown",
   "metadata": {
    "collapsed": false
   },
   "source": [
    "Will mentioning other twitter users boost engagement?"
   ]
  },
  {
   "cell_type": "code",
   "execution_count": 28,
   "metadata": {
    "collapsed": false
   },
   "outputs": [
    {
     "name": "stdout",
     "output_type": "stream",
     "text": [
      "0.0074037632030683476\n"
     ]
    }
   ],
   "source": [
    "X=data['Mentions'].values.reshape(-1,1)\n",
    "y=data['Retweets'].values.reshape(-1,1)\n",
    "X_train, X_test, y_train, y_test = train_test_split(X, y, test_size=0.2, random_state=0)\n",
    "\n",
    "regressor = LinearRegression()  \n",
    "regressor.fit(X_train, y_train) #training the algorithm\n",
    "print(regressor.score(X_test, y_test))"
   ]
  },
  {
   "cell_type": "code",
   "execution_count": 29,
   "metadata": {
    "collapsed": false
   },
   "outputs": [
    {
     "name": "stdout",
     "output_type": "stream",
     "text": [
      "0.011746872029762436\n"
     ]
    }
   ],
   "source": [
    "X=data['Mentions'].values.reshape(-1,1)\n",
    "y=data['Favorites'].values.reshape(-1,1)\n",
    "X_train, X_test, y_train, y_test = train_test_split(X, y, test_size=0.2, random_state=0)\n",
    "\n",
    "regressor = LinearRegression()  \n",
    "regressor.fit(X_train, y_train) #training the algorithm\n",
    "print(regressor.score(X_test, y_test))"
   ]
  },
  {
   "cell_type": "markdown",
   "metadata": {
    "collapsed": false
   },
   "source": [
    "We have a winner! With a high score of .0117, number of user mentions in the tweet is most predictive of engagement (favorites) out of all other features tested."
   ]
  },
  {
   "cell_type": "markdown",
   "metadata": {
    "collapsed": false
   },
   "source": [
    "However, let's try with tweet length and emoji count, too."
   ]
  },
  {
   "cell_type": "code",
   "execution_count": 30,
   "metadata": {
    "collapsed": false,
    "scrolled": true
   },
   "outputs": [
    {
     "data": {
      "text/html": [
       "<div>\n",
       "<style scoped>\n",
       "    .dataframe tbody tr th:only-of-type {\n",
       "        vertical-align: middle;\n",
       "    }\n",
       "\n",
       "    .dataframe tbody tr th {\n",
       "        vertical-align: top;\n",
       "    }\n",
       "\n",
       "    .dataframe thead th {\n",
       "        text-align: right;\n",
       "    }\n",
       "</style>\n",
       "<table border=\"1\" class=\"dataframe\">\n",
       "  <thead>\n",
       "    <tr style=\"text-align: right;\">\n",
       "      <th></th>\n",
       "      <th>Word Count</th>\n",
       "      <th>Emoji Count</th>\n",
       "    </tr>\n",
       "  </thead>\n",
       "  <tbody>\n",
       "    <tr>\n",
       "      <td>0</td>\n",
       "      <td>9</td>\n",
       "      <td>0</td>\n",
       "    </tr>\n",
       "    <tr>\n",
       "      <td>1</td>\n",
       "      <td>9</td>\n",
       "      <td>0</td>\n",
       "    </tr>\n",
       "    <tr>\n",
       "      <td>2</td>\n",
       "      <td>14</td>\n",
       "      <td>0</td>\n",
       "    </tr>\n",
       "    <tr>\n",
       "      <td>3</td>\n",
       "      <td>4</td>\n",
       "      <td>0</td>\n",
       "    </tr>\n",
       "    <tr>\n",
       "      <td>4</td>\n",
       "      <td>20</td>\n",
       "      <td>0</td>\n",
       "    </tr>\n",
       "    <tr>\n",
       "      <td>...</td>\n",
       "      <td>...</td>\n",
       "      <td>...</td>\n",
       "    </tr>\n",
       "    <tr>\n",
       "      <td>1374</td>\n",
       "      <td>0</td>\n",
       "      <td>0</td>\n",
       "    </tr>\n",
       "    <tr>\n",
       "      <td>1375</td>\n",
       "      <td>9</td>\n",
       "      <td>0</td>\n",
       "    </tr>\n",
       "    <tr>\n",
       "      <td>1376</td>\n",
       "      <td>19</td>\n",
       "      <td>0</td>\n",
       "    </tr>\n",
       "    <tr>\n",
       "      <td>1377</td>\n",
       "      <td>1</td>\n",
       "      <td>0</td>\n",
       "    </tr>\n",
       "    <tr>\n",
       "      <td>1378</td>\n",
       "      <td>5</td>\n",
       "      <td>0</td>\n",
       "    </tr>\n",
       "  </tbody>\n",
       "</table>\n",
       "<p>1379 rows × 2 columns</p>\n",
       "</div>"
      ],
      "text/plain": [
       "      Word Count  Emoji Count\n",
       "0              9            0\n",
       "1              9            0\n",
       "2             14            0\n",
       "3              4            0\n",
       "4             20            0\n",
       "...          ...          ...\n",
       "1374           0            0\n",
       "1375           9            0\n",
       "1376          19            0\n",
       "1377           1            0\n",
       "1378           5            0\n",
       "\n",
       "[1379 rows x 2 columns]"
      ]
     },
     "execution_count": 30,
     "metadata": {
     },
     "output_type": "execute_result"
    }
   ],
   "source": [
    "#create new features for number of words in the tweet, and number of emojis in the tweet\n",
    "import regex\n",
    "import emoji\n",
    "\n",
    "def split_count(text):\n",
    "    emoji_counter = 0\n",
    "    data = regex.findall(r'\\X', text)\n",
    "    for word in data:\n",
    "        if any(char in emoji.UNICODE_EMOJI for char in word):\n",
    "            emoji_counter += 1\n",
    "            # Remove from the given text the emojis\n",
    "            text = text.replace(word, '') \n",
    "\n",
    "    words_counter = len(text.split())\n",
    "\n",
    "    return emoji_counter, words_counter\n",
    "\n",
    "def first(tup):\n",
    "    return tup[0]\n",
    "\n",
    "def second(tup):\n",
    "    return tup[1]\n",
    "\n",
    "data['Word Count'] = data['Text'].apply(split_count)\n",
    "data['Emoji Count'] = data['Word Count'].apply(first)\n",
    "data['Word Count'] = data['Word Count'].apply(second)\n",
    "data[['Word Count', 'Emoji Count']]"
   ]
  },
  {
   "cell_type": "markdown",
   "metadata": {
    "collapsed": false
   },
   "source": [
    "#### Word count vs. engagement"
   ]
  },
  {
   "cell_type": "markdown",
   "metadata": {
    "collapsed": false
   },
   "source": [
    "We can apply what we used above:"
   ]
  },
  {
   "cell_type": "code",
   "execution_count": 31,
   "metadata": {
    "collapsed": false
   },
   "outputs": [
    {
     "name": "stdout",
     "output_type": "stream",
     "text": [
      "-0.0024896670689955602\n"
     ]
    }
   ],
   "source": [
    "X=data['Word Count'].values.reshape(-1,1)\n",
    "y=data['Retweets'].values.reshape(-1,1)\n",
    "X_train, X_test, y_train, y_test = train_test_split(X, y, test_size=0.2, random_state=0)\n",
    "\n",
    "regressor = LinearRegression()  \n",
    "regressor.fit(X_train, y_train) #training the algorithm\n",
    "print(regressor.score(X_test, y_test))"
   ]
  },
  {
   "cell_type": "code",
   "execution_count": 32,
   "metadata": {
    "collapsed": false
   },
   "outputs": [
    {
     "name": "stdout",
     "output_type": "stream",
     "text": [
      "0.020213600790503383\n"
     ]
    }
   ],
   "source": [
    "X=data['Word Count'].values.reshape(-1,1)\n",
    "y=data['Favorites'].values.reshape(-1,1)\n",
    "X_train, X_test, y_train, y_test = train_test_split(X, y, test_size=0.2, random_state=0)\n",
    "\n",
    "regressor = LinearRegression()  \n",
    "regressor.fit(X_train, y_train) #training the algorithm\n",
    "print(regressor.score(X_test, y_test))"
   ]
  },
  {
   "cell_type": "markdown",
   "metadata": {
    "collapsed": false
   },
   "source": [
    "Largest one yet! Perhaps people like longer tweets more than short ones. However, this score is still incredibly small."
   ]
  },
  {
   "cell_type": "markdown",
   "metadata": {
    "collapsed": false
   },
   "source": [
    "#### Emoji Count vs. engagement"
   ]
  },
  {
   "cell_type": "code",
   "execution_count": 33,
   "metadata": {
    "collapsed": false
   },
   "outputs": [
    {
     "name": "stdout",
     "output_type": "stream",
     "text": [
      "-0.0005127849089361369\n"
     ]
    }
   ],
   "source": [
    "X=data['Emoji Count'].values.reshape(-1,1)\n",
    "y=data['Retweets'].values.reshape(-1,1)\n",
    "X_train, X_test, y_train, y_test = train_test_split(X, y, test_size=0.2, random_state=0)\n",
    "\n",
    "regressor = LinearRegression()  \n",
    "regressor.fit(X_train, y_train) #training the algorithm\n",
    "print(regressor.score(X_test, y_test))"
   ]
  },
  {
   "cell_type": "code",
   "execution_count": 34,
   "metadata": {
    "collapsed": false
   },
   "outputs": [
    {
     "name": "stdout",
     "output_type": "stream",
     "text": [
      "-0.00011394931208497106\n"
     ]
    }
   ],
   "source": [
    "X=data['Emoji Count'].values.reshape(-1,1)\n",
    "y=data['Favorites'].values.reshape(-1,1)\n",
    "X_train, X_test, y_train, y_test = train_test_split(X, y, test_size=0.2, random_state=0)\n",
    "\n",
    "regressor = LinearRegression()  \n",
    "regressor.fit(X_train, y_train) #training the algorithm\n",
    "print(regressor.score(X_test, y_test))"
   ]
  },
  {
   "cell_type": "markdown",
   "metadata": {
    "collapsed": false
   },
   "source": [
    "Guess people don't care for emojis."
   ]
  },
  {
   "cell_type": "markdown",
   "metadata": {
    "collapsed": false
   },
   "source": [
    "### Logistic Regression"
   ]
  },
  {
   "cell_type": "markdown",
   "metadata": {
    "collapsed": false
   },
   "source": [
    "The following features are binary (either 0 or 1), so they are best suited to be analyzed using logistic regression models instead of linear."
   ]
  },
  {
   "cell_type": "markdown",
   "metadata": {
    "collapsed": false
   },
   "source": [
    "#### Media vs. engagement\n",
    "Lets see if the tweet having a photo, video, or website posted with it has a measureable affect on engagement."
   ]
  },
  {
   "cell_type": "code",
   "execution_count": 35,
   "metadata": {
    "collapsed": false
   },
   "outputs": [
   ],
   "source": [
    "def getMedia(s):\n",
    "    if pd.isna(s):\n",
    "        return 0\n",
    "    else:\n",
    "        return 1\n",
    "    \n",
    "data['Has Media'] = data['Media Type'].apply(getMedia)"
   ]
  },
  {
   "cell_type": "code",
   "execution_count": 36,
   "metadata": {
    "collapsed": false
   },
   "outputs": [
    {
     "name": "stderr",
     "output_type": "stream",
     "text": [
      "C:\\Users\\matt8\\Anaconda3\\lib\\site-packages\\sklearn\\linear_model\\logistic.py:432: FutureWarning: Default solver will be changed to 'lbfgs' in 0.22. Specify a solver to silence this warning.\n",
      "  FutureWarning)\n",
      "C:\\Users\\matt8\\Anaconda3\\lib\\site-packages\\sklearn\\utils\\validation.py:724: DataConversionWarning: A column-vector y was passed when a 1d array was expected. Please change the shape of y to (n_samples, ), for example using ravel().\n",
      "  y = column_or_1d(y, warn=True)\n",
      "C:\\Users\\matt8\\Anaconda3\\lib\\site-packages\\sklearn\\linear_model\\logistic.py:469: FutureWarning: Default multi_class will be changed to 'auto' in 0.22. Specify the multi_class option to silence this warning.\n",
      "  \"this warning.\", FutureWarning)\n"
     ]
    },
    {
     "name": "stdout",
     "output_type": "stream",
     "text": [
      "0.0\n"
     ]
    }
   ],
   "source": [
    "X=data['Has Media'].values.reshape(-1,1)\n",
    "y=data['Retweets'].values.reshape(-1,1)\n",
    "X_train, X_test, y_train, y_test = train_test_split(X, y, test_size=0.2, random_state=0)\n",
    "\n",
    "regressor = LogisticRegression()  \n",
    "regressor.fit(X_train, y_train) #training the algorithm\n",
    "print(regressor.score(X_test, y_test))"
   ]
  },
  {
   "cell_type": "code",
   "execution_count": 37,
   "metadata": {
    "collapsed": false
   },
   "outputs": [
    {
     "name": "stderr",
     "output_type": "stream",
     "text": [
      "C:\\Users\\matt8\\Anaconda3\\lib\\site-packages\\sklearn\\linear_model\\logistic.py:432: FutureWarning: Default solver will be changed to 'lbfgs' in 0.22. Specify a solver to silence this warning.\n",
      "  FutureWarning)\n",
      "C:\\Users\\matt8\\Anaconda3\\lib\\site-packages\\sklearn\\utils\\validation.py:724: DataConversionWarning: A column-vector y was passed when a 1d array was expected. Please change the shape of y to (n_samples, ), for example using ravel().\n",
      "  y = column_or_1d(y, warn=True)\n",
      "C:\\Users\\matt8\\Anaconda3\\lib\\site-packages\\sklearn\\linear_model\\logistic.py:469: FutureWarning: Default multi_class will be changed to 'auto' in 0.22. Specify the multi_class option to silence this warning.\n",
      "  \"this warning.\", FutureWarning)\n"
     ]
    },
    {
     "name": "stdout",
     "output_type": "stream",
     "text": [
      "0.0\n"
     ]
    }
   ],
   "source": [
    "X=data['Has Media'].values.reshape(-1,1)\n",
    "y=data['Favorites'].values.reshape(-1,1)\n",
    "X_train, X_test, y_train, y_test = train_test_split(X, y, test_size=0.2, random_state=0)\n",
    "\n",
    "regressor = LogisticRegression()  \n",
    "regressor.fit(X_train, y_train) #training the algorithm\n",
    "print(regressor.score(X_test, y_test))"
   ]
  },
  {
   "cell_type": "markdown",
   "metadata": {
    "collapsed": false
   },
   "source": [
    "Literally zero!"
   ]
  },
  {
   "cell_type": "markdown",
   "metadata": {
    "collapsed": false
   },
   "source": [
    "Lets include 2 new features that check for whether the tweet includes the words 'fortnite' or 'game'. We chose these because as we see from the word cloud, these are amoung the most popular words tweeted by Ninja. What kind of affect will they have?"
   ]
  },
  {
   "cell_type": "code",
   "execution_count": 38,
   "metadata": {
    "collapsed": false
   },
   "outputs": [
    {
     "name": "stderr",
     "output_type": "stream",
     "text": [
      "C:\\Users\\matt8\\Anaconda3\\lib\\site-packages\\sklearn\\linear_model\\logistic.py:432: FutureWarning: Default solver will be changed to 'lbfgs' in 0.22. Specify a solver to silence this warning.\n",
      "  FutureWarning)\n",
      "C:\\Users\\matt8\\Anaconda3\\lib\\site-packages\\sklearn\\utils\\validation.py:724: DataConversionWarning: A column-vector y was passed when a 1d array was expected. Please change the shape of y to (n_samples, ), for example using ravel().\n",
      "  y = column_or_1d(y, warn=True)\n",
      "C:\\Users\\matt8\\Anaconda3\\lib\\site-packages\\sklearn\\linear_model\\logistic.py:469: FutureWarning: Default multi_class will be changed to 'auto' in 0.22. Specify the multi_class option to silence this warning.\n",
      "  \"this warning.\", FutureWarning)\n"
     ]
    },
    {
     "name": "stdout",
     "output_type": "stream",
     "text": [
      "0.0036231884057971015\n"
     ]
    }
   ],
   "source": [
    "data['Has Fortnite'] = data['Text'].apply(str.lower)\n",
    "data['Has Fortnite'] = data['Has Fortnite'].str.find('fortnite')\n",
    "data['Has Fortnite'] = data['Has Fortnite'].apply(lambda x: 0 if x==-1 else 1)\n",
    "\n",
    "X=data['Has Fortnite'].values.reshape(-1,1)\n",
    "y=data['Retweets'].values.reshape(-1,1)\n",
    "X_train, X_test, y_train, y_test = train_test_split(X, y, test_size=0.2, random_state=0)\n",
    "\n",
    "regressor = LogisticRegression()  \n",
    "regressor.fit(X_train, y_train) #training the algorithm\n",
    "print(regressor.score(X_test, y_test))"
   ]
  },
  {
   "cell_type": "code",
   "execution_count": 39,
   "metadata": {
    "collapsed": false
   },
   "outputs": [
    {
     "name": "stderr",
     "output_type": "stream",
     "text": [
      "C:\\Users\\matt8\\Anaconda3\\lib\\site-packages\\sklearn\\linear_model\\logistic.py:432: FutureWarning: Default solver will be changed to 'lbfgs' in 0.22. Specify a solver to silence this warning.\n",
      "  FutureWarning)\n",
      "C:\\Users\\matt8\\Anaconda3\\lib\\site-packages\\sklearn\\utils\\validation.py:724: DataConversionWarning: A column-vector y was passed when a 1d array was expected. Please change the shape of y to (n_samples, ), for example using ravel().\n",
      "  y = column_or_1d(y, warn=True)\n",
      "C:\\Users\\matt8\\Anaconda3\\lib\\site-packages\\sklearn\\linear_model\\logistic.py:469: FutureWarning: Default multi_class will be changed to 'auto' in 0.22. Specify the multi_class option to silence this warning.\n",
      "  \"this warning.\", FutureWarning)\n"
     ]
    },
    {
     "name": "stdout",
     "output_type": "stream",
     "text": [
      "0.0\n"
     ]
    }
   ],
   "source": [
    "X=data['Has Fortnite'].values.reshape(-1,1)\n",
    "y=data['Favorites'].values.reshape(-1,1)\n",
    "X_train, X_test, y_train, y_test = train_test_split(X, y, test_size=0.2, random_state=0)\n",
    "\n",
    "regressor = LogisticRegression()  \n",
    "regressor.fit(X_train, y_train) #training the algorithm\n",
    "print(regressor.score(X_test, y_test))"
   ]
  },
  {
   "cell_type": "markdown",
   "metadata": {
    "collapsed": false
   },
   "source": [
    "Crazy! Even though Fortnite is Ninja's claim to fame, it appears that mentioning it in his tweets doesn't guarentee that they will receive engagement."
   ]
  },
  {
   "cell_type": "code",
   "execution_count": 40,
   "metadata": {
    "collapsed": false
   },
   "outputs": [
    {
     "name": "stderr",
     "output_type": "stream",
     "text": [
      "C:\\Users\\matt8\\Anaconda3\\lib\\site-packages\\sklearn\\linear_model\\logistic.py:432: FutureWarning: Default solver will be changed to 'lbfgs' in 0.22. Specify a solver to silence this warning.\n",
      "  FutureWarning)\n",
      "C:\\Users\\matt8\\Anaconda3\\lib\\site-packages\\sklearn\\utils\\validation.py:724: DataConversionWarning: A column-vector y was passed when a 1d array was expected. Please change the shape of y to (n_samples, ), for example using ravel().\n",
      "  y = column_or_1d(y, warn=True)\n",
      "C:\\Users\\matt8\\Anaconda3\\lib\\site-packages\\sklearn\\linear_model\\logistic.py:469: FutureWarning: Default multi_class will be changed to 'auto' in 0.22. Specify the multi_class option to silence this warning.\n",
      "  \"this warning.\", FutureWarning)\n"
     ]
    },
    {
     "name": "stdout",
     "output_type": "stream",
     "text": [
      "0.0036231884057971015\n"
     ]
    }
   ],
   "source": [
    "data['Has Game'] = data['Text'].apply(str.lower)\n",
    "data['Has Game'] = data['Has Game'].str.find('game')\n",
    "data['Has Game'] = data['Has Game'].apply(lambda x: 0 if x==-1 else 1)\n",
    "\n",
    "X=data['Has Game'].values.reshape(-1,1)\n",
    "y=data['Retweets'].values.reshape(-1,1)\n",
    "X_train, X_test, y_train, y_test = train_test_split(X, y, test_size=0.2, random_state=0)\n",
    "\n",
    "regressor = LogisticRegression()   \n",
    "regressor.fit(X_train, y_train) #training the algorithm\n",
    "print(regressor.score(X_test, y_test))"
   ]
  },
  {
   "cell_type": "code",
   "execution_count": 41,
   "metadata": {
    "collapsed": false
   },
   "outputs": [
    {
     "name": "stderr",
     "output_type": "stream",
     "text": [
      "C:\\Users\\matt8\\Anaconda3\\lib\\site-packages\\sklearn\\linear_model\\logistic.py:432: FutureWarning: Default solver will be changed to 'lbfgs' in 0.22. Specify a solver to silence this warning.\n",
      "  FutureWarning)\n",
      "C:\\Users\\matt8\\Anaconda3\\lib\\site-packages\\sklearn\\utils\\validation.py:724: DataConversionWarning: A column-vector y was passed when a 1d array was expected. Please change the shape of y to (n_samples, ), for example using ravel().\n",
      "  y = column_or_1d(y, warn=True)\n",
      "C:\\Users\\matt8\\Anaconda3\\lib\\site-packages\\sklearn\\linear_model\\logistic.py:469: FutureWarning: Default multi_class will be changed to 'auto' in 0.22. Specify the multi_class option to silence this warning.\n",
      "  \"this warning.\", FutureWarning)\n"
     ]
    },
    {
     "name": "stdout",
     "output_type": "stream",
     "text": [
      "0.0\n"
     ]
    }
   ],
   "source": [
    "X=data['Has Game'].values.reshape(-1,1)\n",
    "y=data['Favorites'].values.reshape(-1,1)\n",
    "X_train, X_test, y_train, y_test = train_test_split(X, y, test_size=0.2, random_state=0)\n",
    "\n",
    "regressor = LogisticRegression()   \n",
    "regressor.fit(X_train, y_train) #training the algorithm\n",
    "print(regressor.score(X_test, y_test))"
   ]
  },
  {
   "cell_type": "markdown",
   "metadata": {
    "collapsed": false
   },
   "source": [
    "Including 'game' alost doesn't seem to matter at all!"
   ]
  },
  {
   "cell_type": "markdown",
   "metadata": {
    "collapsed": false
   },
   "source": [
    "## Conclusion\n",
    "\n",
    "Unfortunately, we were unable to muster an accurate measure for predicting a twitter user's engagement given a set of other features. We used TextBlob as a method of NLP to process our tweets and return their subjectivity and polarity. Using linear and logistic regression models, we explored whether correlations were present between subjectivity and engagement, and polarity and engagement. The scores of these models were very low, meaning they could not find significant relationships between engagment and other features related to NLP.\n",
    "\n",
    "We turned to other, non-NLP related features to help determine any other ways to predict engagement based on a twitter post. One possibility is that posts with photos, videos, or website links attached would drive engagement, so doing some mild feature engineering we created a feature not present initially that determined whether a post had media attached or not. Running models comparing that to engagement also returned scores that were essentially 0, so no discoveries were made there. We trained the models with hashtag counts and user mentions, as well as word counts and emoji counts. The greatest score obtained was between word count and favorites, at about .02. This is still almost 0, so we realistically can't use it to say \"longer tweets mean more favorites\". Even Ninja's most popular words appearing in his tweets was not predictive enough of follower engagement!\n",
    "\n",
    "There are many things that could be assumed from our project. Our findings suggest that Twitter engagement is relatively consistent no matter what kind of tweet is posted. A user's followers seem to react to many tweets the same, bar a few anomalies with huge engagement spikes. Its possible that we did not analyze enough features, especially regarding the text. We analyzed subjectivity and polarity, but there must be dozens of possible features to analyze in these words. We could've looked at groups of words or phrases. We also didn't even analyze even feature given to us in the dataset. We could have checked out the time of day the tweet was posted, the user's screen name at the time, the amount of URLs they attached to their tweet, etc.\n",
    "\n",
    "Our biggest takeaway is that it is incredibly difficult to accurately analyze which features of a text block make it most likely to be enjoyed and shared by other people. Anyone who understands this will have a valuable secret on their hands."
   ]
  }
 ],
 "metadata": {
  "kernelspec": {
   "display_name": "Python 3 (system-wide)",
   "language": "python",
   "metadata": {
    "cocalc": {
     "description": "Python 3 programming language",
     "priority": 100,
     "url": "https://www.python.org/"
    }
   },
   "name": "python3"
  },
  "language_info": {
   "codemirror_mode": {
    "name": "ipython",
    "version": 3
   },
   "file_extension": ".py",
   "mimetype": "text/x-python",
   "name": "python",
   "nbconvert_exporter": "python",
   "pygments_lexer": "ipython3",
   "version": "3.6.9"
  }
 },
 "nbformat": 4,
 "nbformat_minor": 4
}